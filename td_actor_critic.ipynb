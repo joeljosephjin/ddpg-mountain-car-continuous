{
 "cells": [
  {
   "cell_type": "code",
   "execution_count": null,
   "metadata": {},
   "outputs": [],
   "source": [
    "import torch\n",
    "import torch.nn as nn\n",
    "import gym\n",
    "import torch.nn.functional as F\n",
    "import torch.optim as optim\n",
    "from torch.distributions import Categorical"
   ]
  },
  {
   "cell_type": "code",
   "execution_count": null,
   "metadata": {},
   "outputs": [],
   "source": [
    "env = gym.make(\"CartPole-v1\")\n",
    "actor = Policy()\n",
    "\n",
    "def run_episode(iteration):\n",
    "    state = env.reset()\n",
    "    for t in range(600):\n",
    "        state = torch.from_numpy(state).float()\n",
    "        action,value = actor(state)\n",
    "        action_chosen = Categorical(action)\n",
    "        action = action_chosen.sample()\n",
    "        next_state, reward, done, info = env.step(action.item())\n",
    "        _, next_value = model(torch.from_numpy(next_state).float())\n",
    "        delta = reward + gamma * next_value - value\n",
    "        loss = -torch.log(action)"
   ]
  },
  {
   "cell_type": "code",
   "execution_count": null,
   "metadata": {},
   "outputs": [],
   "source": []
  }
 ],
 "metadata": {
  "kernelspec": {
   "display_name": "Python 3",
   "language": "python",
   "name": "python3"
  },
  "language_info": {
   "codemirror_mode": {
    "name": "ipython",
    "version": 3
   },
   "file_extension": ".py",
   "mimetype": "text/x-python",
   "name": "python",
   "nbconvert_exporter": "python",
   "pygments_lexer": "ipython3",
   "version": "3.6.7"
  }
 },
 "nbformat": 4,
 "nbformat_minor": 2
}
